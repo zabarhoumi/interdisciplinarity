{
  "nbformat": 4,
  "nbformat_minor": 0,
  "metadata": {
    "colab": {
      "provenance": [],
      "authorship_tag": "ABX9TyOh//1vdH+5aeAxPHVtVYup",
      "include_colab_link": true
    },
    "kernelspec": {
      "name": "python3",
      "display_name": "Python 3"
    },
    "language_info": {
      "name": "python"
    },
    
        "ec95aa495a494cb193b0a0979ac6d9c2": {
          "model_module": "@jupyter-widgets/controls",
          "model_name": "HTMLModel",
          "model_module_version": "1.5.0",
          "state": {
            "_dom_classes": [],
            "_model_module": "@jupyter-widgets/controls",
            "_model_module_version": "1.5.0",
            "_model_name": "HTMLModel",
            "_view_count": null,
            "_view_module": "@jupyter-widgets/controls",
            "_view_module_version": "1.5.0",
            "_view_name": "HTMLView",
            "description": "",
            "description_tooltip": null,
            "layout": "IPY_MODEL_478537d2363a402eaf9bc52768d20de0",
            "placeholder": "​",
            "style": "IPY_MODEL_1eba802e75a243709bf13dbf789fe0f0",
            "value": "config.json: 100%"
          }
        },
        "086dd54dd166480890f3f002d13f68f4": {
          "model_module": "@jupyter-widgets/controls",
          "model_name": "FloatProgressModel",
          "model_module_version": "1.5.0",
          "state": {
            "_dom_classes": [],
            "_model_module": "@jupyter-widgets/controls",
            "_model_module_version": "1.5.0",
            "_model_name": "FloatProgressModel",
            "_view_count": null,
            "_view_module": "@jupyter-widgets/controls",
            "_view_module_version": "1.5.0",
            "_view_name": "ProgressView",
            "bar_style": "success",
            "description": "",
            "description_tooltip": null,
            "layout": "IPY_MODEL_6108febc017a492cbcb4fc08cf93bd2d",
            "max": 385,
            "min": 0,
            "orientation": "horizontal",
            "style": "IPY_MODEL_15f094c5b7bb414a89a78bac7077d858",
            "value": 385
          }
        },
        "b760f05ebb904cdf84959a0f30515d75": {
          "model_module": "@jupyter-widgets/controls",
          "model_name": "HTMLModel",
          "model_module_version": "1.5.0",
          "state": {
            "_dom_classes": [],
            "_model_module": "@jupyter-widgets/controls",
            "_model_module_version": "1.5.0",
            "_model_name": "HTMLModel",
            "_view_count": null,
            "_view_module": "@jupyter-widgets/controls",
            "_view_module_version": "1.5.0",
            "_view_name": "HTMLView",
            "description": "",
            "description_tooltip": null,
            "layout": "IPY_MODEL_2fc9e9b5dee540fb97278327f4da094a",
            "placeholder": "​",
            "style": "IPY_MODEL_8241b70cc39b4628a327885a9e8c4131",
            "value": " 385/385 [00:00&lt;00:00, 7.74kB/s]"
          }
        },
        "9b88d73569aa4b5d8247794eb5c7bfdb": {
          "model_module": "@jupyter-widgets/base",
          "model_name": "LayoutModel",
          "model_module_version": "1.2.0",
          "state": {
            "_model_module": "@jupyter-widgets/base",
            "_model_module_version": "1.2.0",
            "_model_name": "LayoutModel",
            "_view_count": null,
            "_view_module": "@jupyter-widgets/base",
            "_view_module_version": "1.2.0",
            "_view_name": "LayoutView",
            "align_content": null,
            "align_items": null,
            "align_self": null,
            "border": null,
            "bottom": null,
            "display": null,
            "flex": null,
            "flex_flow": null,
            "grid_area": null,
            "grid_auto_columns": null,
            "grid_auto_flow": null,
            "grid_auto_rows": null,
            "grid_column": null,
            "grid_gap": null,
            "grid_row": null,
            "grid_template_areas": null,
            "grid_template_columns": null,
            "grid_template_rows": null,
            "height": null,
            "justify_content": null,
            "justify_items": null,
            "left": null,
            "margin": null,
            "max_height": null,
            "max_width": null,
            "min_height": null,
            "min_width": null,
            "object_fit": null,
            "object_position": null,
            "order": null,
            "overflow": null,
            "overflow_x": null,
            "overflow_y": null,
            "padding": null,
            "right": null,
            "top": null,
            "visibility": null,
            "width": null
          }
        },
        "478537d2363a402eaf9bc52768d20de0": {
          "model_module": "@jupyter-widgets/base",
          "model_name": "LayoutModel",
          "model_module_version": "1.2.0",
          "state": {
            "_model_module": "@jupyter-widgets/base",
            "_model_module_version": "1.2.0",
            "_model_name": "LayoutModel",
            "_view_count": null,
            "_view_module": "@jupyter-widgets/base",
            "_view_module_version": "1.2.0",
            "_view_name": "LayoutView",
            "align_content": null,
            "align_items": null,
            "align_self": null,
            "border": null,
            "bottom": null,
            "display": null,
            "flex": null,
            "flex_flow": null,
            "grid_area": null,
            "grid_auto_columns": null,
            "grid_auto_flow": null,
            "grid_auto_rows": null,
            "grid_column": null,
            "grid_gap": null,
            "grid_row": null,
            "grid_template_areas": null,
            "grid_template_columns": null,
            "grid_template_rows": null,
            "height": null,
            "justify_content": null,
            "justify_items": null,
            "left": null,
            "margin": null,
            "max_height": null,
            "max_width": null,
            "min_height": null,
            "min_width": null,
            "object_fit": null,
            "object_position": null,
            "order": null,
            "overflow": null,
            "overflow_x": null,
            "overflow_y": null,
            "padding": null,
            "right": null,
            "top": null,
            "visibility": null,
            "width": null
          }
        },
        "1eba802e75a243709bf13dbf789fe0f0": {
          "model_module": "@jupyter-widgets/controls",
          "model_name": "DescriptionStyleModel",
          "model_module_version": "1.5.0",
          "state": {
            "_model_module": "@jupyter-widgets/controls",
            "_model_module_version": "1.5.0",
            "_model_name": "DescriptionStyleModel",
            "_view_count": null,
            "_view_module": "@jupyter-widgets/base",
            "_view_module_version": "1.2.0",
            "_view_name": "StyleView",
            "description_width": ""
          }
        },
        "6108febc017a492cbcb4fc08cf93bd2d": {
          "model_module": "@jupyter-widgets/base",
          "model_name": "LayoutModel",
          "model_module_version": "1.2.0",
          "state": {
            "_model_module": "@jupyter-widgets/base",
            "_model_module_version": "1.2.0",
            "_model_name": "LayoutModel",
            "_view_count": null,
            "_view_module": "@jupyter-widgets/base",
            "_view_module_version": "1.2.0",
            "_view_name": "LayoutView",
            "align_content": null,
            "align_items": null,
            "align_self": null,
            "border": null,
            "bottom": null,
            "display": null,
            "flex": null,
            "flex_flow": null,
            "grid_area": null,
            "grid_auto_columns": null,
            "grid_auto_flow": null,
            "grid_auto_rows": null,
            "grid_column": null,
            "grid_gap": null,
            "grid_row": null,
            "grid_template_areas": null,
            "grid_template_columns": null,
            "grid_template_rows": null,
            "height": null,
            "justify_content": null,
            "justify_items": null,
            "left": null,
            "margin": null,
            "max_height": null,
            "max_width": null,
            "min_height": null,
            "min_width": null,
            "object_fit": null,
            "object_position": null,
            "order": null,
            "overflow": null,
            "overflow_x": null,
            "overflow_y": null,
            "padding": null,
            "right": null,
            "top": null,
            "visibility": null,
            "width": null
          }
        },
        "15f094c5b7bb414a89a78bac7077d858": {
          "model_module": "@jupyter-widgets/controls",
          "model_name": "ProgressStyleModel",
          "model_module_version": "1.5.0",
          "state": {
            "_model_module": "@jupyter-widgets/controls",
            "_model_module_version": "1.5.0",
            "_model_name": "ProgressStyleModel",
            "_view_count": null,
            "_view_module": "@jupyter-widgets/base",
            "_view_module_version": "1.2.0",
            "_view_name": "StyleView",
            "bar_color": null,
            "description_width": ""
          }
        },
        "2fc9e9b5dee540fb97278327f4da094a": {
          "model_module": "@jupyter-widgets/base",
          "model_name": "LayoutModel",
          "model_module_version": "1.2.0",
          "state": {
            "_model_module": "@jupyter-widgets/base",
            "_model_module_version": "1.2.0",
            "_model_name": "LayoutModel",
            "_view_count": null,
            "_view_module": "@jupyter-widgets/base",
            "_view_module_version": "1.2.0",
            "_view_name": "LayoutView",
            "align_content": null,
            "align_items": null,
            "align_self": null,
            "border": null,
            "bottom": null,
            "display": null,
            "flex": null,
            "flex_flow": null,
            "grid_area": null,
            "grid_auto_columns": null,
            "grid_auto_flow": null,
            "grid_auto_rows": null,
            "grid_column": null,
            "grid_gap": null,
            "grid_row": null,
            "grid_template_areas": null,
            "grid_template_columns": null,
            "grid_template_rows": null,
            "height": null,
            "justify_content": null,
            "justify_items": null,
            "left": null,
            "margin": null,
            "max_height": null,
            "max_width": null,
            "min_height": null,
            "min_width": null,
            "object_fit": null,
            "object_position": null,
            "order": null,
            "overflow": null,
            "overflow_x": null,
            "overflow_y": null,
            "padding": null,
            "right": null,
            "top": null,
            "visibility": null,
            "width": null
          }
        },
        "8241b70cc39b4628a327885a9e8c4131": {
          "model_module": "@jupyter-widgets/controls",
          "model_name": "DescriptionStyleModel",
          "model_module_version": "1.5.0",
          "state": {
            "_model_module": "@jupyter-widgets/controls",
            "_model_module_version": "1.5.0",
            "_model_name": "DescriptionStyleModel",
            "_view_count": null,
            "_view_module": "@jupyter-widgets/base",
            "_view_module_version": "1.2.0",
            "_view_name": "StyleView",
            "description_width": ""
          }
        },
        "3811d0b40b65454ba545b1621c9ede1c": {
          "model_module": "@jupyter-widgets/controls",
          "model_name": "HBoxModel",
          "model_module_version": "1.5.0",
          "state": {
            "_dom_classes": [],
            "_model_module": "@jupyter-widgets/controls",
            "_model_module_version": "1.5.0",
            "_model_name": "HBoxModel",
            "_view_count": null,
            "_view_module": "@jupyter-widgets/controls",
            "_view_module_version": "1.5.0",
            "_view_name": "HBoxView",
            "box_style": "",
            "children": [
              "IPY_MODEL_0703909c43a640c6ad213e5465dc6cd2",
              "IPY_MODEL_40e465e36d9f4678bc69502395280a91",
              "IPY_MODEL_c9e3dd49581f4f119c029c389d213b7a"
            ],
            "layout": "IPY_MODEL_5e1d8ac86cf3496e914a32979e44344a"
          }
        },
        "0703909c43a640c6ad213e5465dc6cd2": {
          "model_module": "@jupyter-widgets/controls",
          "model_name": "HTMLModel",
          "model_module_version": "1.5.0",
          "state": {
            "_dom_classes": [],
            "_model_module": "@jupyter-widgets/controls",
            "_model_module_version": "1.5.0",
            "_model_name": "HTMLModel",
            "_view_count": null,
            "_view_module": "@jupyter-widgets/controls",
            "_view_module_version": "1.5.0",
            "_view_name": "HTMLView",
            "description": "",
            "description_tooltip": null,
            "layout": "IPY_MODEL_bfa7661dd0534057ba7a17f71e4861ec",
            "placeholder": "​",
            "style": "IPY_MODEL_38ffe08e6ad74b0d8c7275e4e23c41c5",
            "value": "vocab.txt: "
          }
        },
        "40e465e36d9f4678bc69502395280a91": {
          "model_module": "@jupyter-widgets/controls",
          "model_name": "FloatProgressModel",
          "model_module_version": "1.5.0",
          "state": {
            "_dom_classes": [],
            "_model_module": "@jupyter-widgets/controls",
            "_model_module_version": "1.5.0",
            "_model_name": "FloatProgressModel",
            "_view_count": null,
            "_view_module": "@jupyter-widgets/controls",
            "_view_module_version": "1.5.0",
            "_view_name": "ProgressView",
            "bar_style": "success",
            "description": "",
            "description_tooltip": null,
            "layout": "IPY_MODEL_ad51957f69ea4c638a9f134f87b7c2a6",
            "max": 1,
            "min": 0,
            "orientation": "horizontal",
            "style": "IPY_MODEL_25a540047a534ee8b20154b26edf9a13",
            "value": 1
          }
        },
        "c9e3dd49581f4f119c029c389d213b7a": {
          "model_module": "@jupyter-widgets/controls",
          "model_name": "HTMLModel",
          "model_module_version": "1.5.0",
          "state": {
            "_dom_classes": [],
            "_model_module": "@jupyter-widgets/controls",
            "_model_module_version": "1.5.0",
            "_model_name": "HTMLModel",
            "_view_count": null,
            "_view_module": "@jupyter-widgets/controls",
            "_view_module_version": "1.5.0",
            "_view_name": "HTMLView",
            "description": "",
            "description_tooltip": null,
            "layout": "IPY_MODEL_b1f702eeb3b84092985b1822b0db82fc",
            "placeholder": "​",
            "style": "IPY_MODEL_bd92c48686ea48bf92dce62c10ff831b",
            "value": " 228k/? [00:00&lt;00:00, 3.35MB/s]"
          }
        },
        "5e1d8ac86cf3496e914a32979e44344a": {
          "model_module": "@jupyter-widgets/base",
          "model_name": "LayoutModel",
          "model_module_version": "1.2.0",
          "state": {
            "_model_module": "@jupyter-widgets/base",
            "_model_module_version": "1.2.0",
            "_model_name": "LayoutModel",
            "_view_count": null,
            "_view_module": "@jupyter-widgets/base",
            "_view_module_version": "1.2.0",
            "_view_name": "LayoutView",
            "align_content": null,
            "align_items": null,
            "align_self": null,
            "border": null,
            "bottom": null,
            "display": null,
            "flex": null,
            "flex_flow": null,
            "grid_area": null,
            "grid_auto_columns": null,
            "grid_auto_flow": null,
            "grid_auto_rows": null,
            "grid_column": null,
            "grid_gap": null,
            "grid_row": null,
            "grid_template_areas": null,
            "grid_template_columns": null,
            "grid_template_rows": null,
            "height": null,
            "justify_content": null,
            "justify_items": null,
            "left": null,
            "margin": null,
            "max_height": null,
            "max_width": null,
            "min_height": null,
            "min_width": null,
            "object_fit": null,
            "object_position": null,
            "order": null,
            "overflow": null,
            "overflow_x": null,
            "overflow_y": null,
            "padding": null,
            "right": null,
            "top": null,
            "visibility": null,
            "width": null
          }
        },
        "bfa7661dd0534057ba7a17f71e4861ec": {
          "model_module": "@jupyter-widgets/base",
          "model_name": "LayoutModel",
          "model_module_version": "1.2.0",
          "state": {
            "_model_module": "@jupyter-widgets/base",
            "_model_module_version": "1.2.0",
            "_model_name": "LayoutModel",
            "_view_count": null,
            "_view_module": "@jupyter-widgets/base",
            "_view_module_version": "1.2.0",
            "_view_name": "LayoutView",
            "align_content": null,
            "align_items": null,
            "align_self": null,
            "border": null,
            "bottom": null,
            "display": null,
            "flex": null,
            "flex_flow": null,
            "grid_area": null,
            "grid_auto_columns": null,
            "grid_auto_flow": null,
            "grid_auto_rows": null,
            "grid_column": null,
            "grid_gap": null,
            "grid_row": null,
            "grid_template_areas": null,
            "grid_template_columns": null,
            "grid_template_rows": null,
            "height": null,
            "justify_content": null,
            "justify_items": null,
            "left": null,
            "margin": null,
            "max_height": null,
            "max_width": null,
            "min_height": null,
            "min_width": null,
            "object_fit": null,
            "object_position": null,
            "order": null,
            "overflow": null,
            "overflow_x": null,
            "overflow_y": null,
            "padding": null,
            "right": null,
            "top": null,
            "visibility": null,
            "width": null
          }
        },
        "38ffe08e6ad74b0d8c7275e4e23c41c5": {
          "model_module": "@jupyter-widgets/controls",
          "model_name": "DescriptionStyleModel",
          "model_module_version": "1.5.0",
          "state": {
            "_model_module": "@jupyter-widgets/controls",
            "_model_module_version": "1.5.0",
            "_model_name": "DescriptionStyleModel",
            "_view_count": null,
            "_view_module": "@jupyter-widgets/base",
            "_view_module_version": "1.2.0",
            "_view_name": "StyleView",
            "description_width": ""
          }
        },
        "ad51957f69ea4c638a9f134f87b7c2a6": {
          "model_module": "@jupyter-widgets/base",
          "model_name": "LayoutModel",
          "model_module_version": "1.2.0",
          "state": {
            "_model_module": "@jupyter-widgets/base",
            "_model_module_version": "1.2.0",
            "_model_name": "LayoutModel",
            "_view_count": null,
            "_view_module": "@jupyter-widgets/base",
            "_view_module_version": "1.2.0",
            "_view_name": "LayoutView",
            "align_content": null,
            "align_items": null,
            "align_self": null,
            "border": null,
            "bottom": null,
            "display": null,
            "flex": null,
            "flex_flow": null,
            "grid_area": null,
            "grid_auto_columns": null,
            "grid_auto_flow": null,
            "grid_auto_rows": null,
            "grid_column": null,
            "grid_gap": null,
            "grid_row": null,
            "grid_template_areas": null,
            "grid_template_columns": null,
            "grid_template_rows": null,
            "height": null,
            "justify_content": null,
            "justify_items": null,
            "left": null,
            "margin": null,
            "max_height": null,
            "max_width": null,
            "min_height": null,
            "min_width": null,
            "object_fit": null,
            "object_position": null,
            "order": null,
            "overflow": null,
            "overflow_x": null,
            "overflow_y": null,
            "padding": null,
            "right": null,
            "top": null,
            "visibility": null,
            "width": "20px"
          }
        },
        "25a540047a534ee8b20154b26edf9a13": {
          "model_module": "@jupyter-widgets/controls",
          "model_name": "ProgressStyleModel",
          "model_module_version": "1.5.0",
          "state": {
            "_model_module": "@jupyter-widgets/controls",
            "_model_module_version": "1.5.0",
            "_model_name": "ProgressStyleModel",
            "_view_count": null,
            "_view_module": "@jupyter-widgets/base",
            "_view_module_version": "1.2.0",
            "_view_name": "StyleView",
            "bar_color": null,
            "description_width": ""
          }
        },
        "b1f702eeb3b84092985b1822b0db82fc": {
          "model_module": "@jupyter-widgets/base",
          "model_name": "LayoutModel",
          "model_module_version": "1.2.0",
          "state": {
            "_model_module": "@jupyter-widgets/base",
            "_model_module_version": "1.2.0",
            "_model_name": "LayoutModel",
            "_view_count": null,
            "_view_module": "@jupyter-widgets/base",
            "_view_module_version": "1.2.0",
            "_view_name": "LayoutView",
            "align_content": null,
            "align_items": null,
            "align_self": null,
            "border": null,
            "bottom": null,
            "display": null,
            "flex": null,
            "flex_flow": null,
            "grid_area": null,
            "grid_auto_columns": null,
            "grid_auto_flow": null,
            "grid_auto_rows": null,
            "grid_column": null,
            "grid_gap": null,
            "grid_row": null,
            "grid_template_areas": null,
            "grid_template_columns": null,
            "grid_template_rows": null,
            "height": null,
            "justify_content": null,
            "justify_items": null,
            "left": null,
            "margin": null,
            "max_height": null,
            "max_width": null,
            "min_height": null,
            "min_width": null,
            "object_fit": null,
            "object_position": null,
            "order": null,
            "overflow": null,
            "overflow_x": null,
            "overflow_y": null,
            "padding": null,
            "right": null,
            "top": null,
            "visibility": null,
            "width": null
          }
        },
        "bd92c48686ea48bf92dce62c10ff831b": {
          "model_module": "@jupyter-widgets/controls",
          "model_name": "DescriptionStyleModel",
          "model_module_version": "1.5.0",
          "state": {
            "_model_module": "@jupyter-widgets/controls",
            "_model_module_version": "1.5.0",
            "_model_name": "DescriptionStyleModel",
            "_view_count": null,
            "_view_module": "@jupyter-widgets/base",
            "_view_module_version": "1.2.0",
            "_view_name": "StyleView",
            "description_width": ""
          }
        },
        "b51036beea2542019610293f55eba45f": {
          "model_module": "@jupyter-widgets/controls",
          "model_name": "HBoxModel",
          "model_module_version": "1.5.0",
          "state": {
            "_dom_classes": [],
            "_model_module": "@jupyter-widgets/controls",
            "_model_module_version": "1.5.0",
            "_model_name": "HBoxModel",
            "_view_count": null,
            "_view_module": "@jupyter-widgets/controls",
            "_view_module_version": "1.5.0",
            "_view_name": "HBoxView",
            "box_style": "",
            "children": [
              "IPY_MODEL_91793451b3dc4e7eb9729c626143525a",
              "IPY_MODEL_7d00f97d117b44debda7acc63af7851f",
              "IPY_MODEL_a70c6e2acfed4742b5591c53a994fc99"
            ],
            "layout": "IPY_MODEL_299ca86cf8ba4d44a7fcc5c6a536a2e1"
          }
        },
        "91793451b3dc4e7eb9729c626143525a": {
          "model_module": "@jupyter-widgets/controls",
          "model_name": "HTMLModel",
          "model_module_version": "1.5.0",
          "state": {
            "_dom_classes": [],
            "_model_module": "@jupyter-widgets/controls",
            "_model_module_version": "1.5.0",
            "_model_name": "HTMLModel",
            "_view_count": null,
            "_view_module": "@jupyter-widgets/controls",
            "_view_module_version": "1.5.0",
            "_view_name": "HTMLView",
            "description": "",
            "description_tooltip": null,
            "layout": "IPY_MODEL_bb3071bcaf664002b894cf9485cc238d",
            "placeholder": "​",
            "style": "IPY_MODEL_46a851a2d3b24d13b3c0e9c6e6f5264b",
            "value": "pytorch_model.bin: 100%"
          }
        },
        "7d00f97d117b44debda7acc63af7851f": {
          "model_module": "@jupyter-widgets/controls",
          "model_name": "FloatProgressModel",
          "model_module_version": "1.5.0",
          "state": {
            "_dom_classes": [],
            "_model_module": "@jupyter-widgets/controls",
            "_model_module_version": "1.5.0",
            "_model_name": "FloatProgressModel",
            "_view_count": null,
            "_view_module": "@jupyter-widgets/controls",
            "_view_module_version": "1.5.0",
            "_view_name": "ProgressView",
            "bar_style": "success",
            "description": "",
            "description_tooltip": null,
            "layout": "IPY_MODEL_158646547f744e4f9dde262216e73d0a",
            "max": 442221694,
            "min": 0,
            "orientation": "horizontal",
            "style": "IPY_MODEL_7e40ba1f5798484bb88bc1ae8a99e6ee",
            "value": 442221694
          }
        },
        "a70c6e2acfed4742b5591c53a994fc99": {
          "model_module": "@jupyter-widgets/controls",
          "model_name": "HTMLModel",
          "model_module_version": "1.5.0",
          "state": {
            "_dom_classes": [],
            "_model_module": "@jupyter-widgets/controls",
            "_model_module_version": "1.5.0",
            "_model_name": "HTMLModel",
            "_view_count": null,
            "_view_module": "@jupyter-widgets/controls",
            "_view_module_version": "1.5.0",
            "_view_name": "HTMLView",
            "description": "",
            "description_tooltip": null,
            "layout": "IPY_MODEL_5ac8de41031f4399854d036acb602041",
            "placeholder": "​",
            "style": "IPY_MODEL_c0babbad4f3740218157ec76042ad001",
            "value": " 442M/442M [00:04&lt;00:00, 155MB/s]"
          }
        },
        "299ca86cf8ba4d44a7fcc5c6a536a2e1": {
          "model_module": "@jupyter-widgets/base",
          "model_name": "LayoutModel",
          "model_module_version": "1.2.0",
          "state": {
            "_model_module": "@jupyter-widgets/base",
            "_model_module_version": "1.2.0",
            "_model_name": "LayoutModel",
            "_view_count": null,
            "_view_module": "@jupyter-widgets/base",
            "_view_module_version": "1.2.0",
            "_view_name": "LayoutView",
            "align_content": null,
            "align_items": null,
            "align_self": null,
            "border": null,
            "bottom": null,
            "display": null,
            "flex": null,
            "flex_flow": null,
            "grid_area": null,
            "grid_auto_columns": null,
            "grid_auto_flow": null,
            "grid_auto_rows": null,
            "grid_column": null,
            "grid_gap": null,
            "grid_row": null,
            "grid_template_areas": null,
            "grid_template_columns": null,
            "grid_template_rows": null,
            "height": null,
            "justify_content": null,
            "justify_items": null,
            "left": null,
            "margin": null,
            "max_height": null,
            "max_width": null,
            "min_height": null,
            "min_width": null,
            "object_fit": null,
            "object_position": null,
            "order": null,
            "overflow": null,
            "overflow_x": null,
            "overflow_y": null,
            "padding": null,
            "right": null,
            "top": null,
            "visibility": null,
            "width": null
          }
        },
        "bb3071bcaf664002b894cf9485cc238d": {
          "model_module": "@jupyter-widgets/base",
          "model_name": "LayoutModel",
          "model_module_version": "1.2.0",
          "state": {
            "_model_module": "@jupyter-widgets/base",
            "_model_module_version": "1.2.0",
            "_model_name": "LayoutModel",
            "_view_count": null,
            "_view_module": "@jupyter-widgets/base",
            "_view_module_version": "1.2.0",
            "_view_name": "LayoutView",
            "align_content": null,
            "align_items": null,
            "align_self": null,
            "border": null,
            "bottom": null,
            "display": null,
            "flex": null,
            "flex_flow": null,
            "grid_area": null,
            "grid_auto_columns": null,
            "grid_auto_flow": null,
            "grid_auto_rows": null,
            "grid_column": null,
            "grid_gap": null,
            "grid_row": null,
            "grid_template_areas": null,
            "grid_template_columns": null,
            "grid_template_rows": null,
            "height": null,
            "justify_content": null,
            "justify_items": null,
            "left": null,
            "margin": null,
            "max_height": null,
            "max_width": null,
            "min_height": null,
            "min_width": null,
            "object_fit": null,
            "object_position": null,
            "order": null,
            "overflow": null,
            "overflow_x": null,
            "overflow_y": null,
            "padding": null,
            "right": null,
            "top": null,
            "visibility": null,
            "width": null
          }
        },
        "46a851a2d3b24d13b3c0e9c6e6f5264b": {
          "model_module": "@jupyter-widgets/controls",
          "model_name": "DescriptionStyleModel",
          "model_module_version": "1.5.0",
          "state": {
            "_model_module": "@jupyter-widgets/controls",
            "_model_module_version": "1.5.0",
            "_model_name": "DescriptionStyleModel",
            "_view_count": null,
            "_view_module": "@jupyter-widgets/base",
            "_view_module_version": "1.2.0",
            "_view_name": "StyleView",
            "description_width": ""
          }
        },
        "158646547f744e4f9dde262216e73d0a": {
          "model_module": "@jupyter-widgets/base",
          "model_name": "LayoutModel",
          "model_module_version": "1.2.0",
          "state": {
            "_model_module": "@jupyter-widgets/base",
            "_model_module_version": "1.2.0",
            "_model_name": "LayoutModel",
            "_view_count": null,
            "_view_module": "@jupyter-widgets/base",
            "_view_module_version": "1.2.0",
            "_view_name": "LayoutView",
            "align_content": null,
            "align_items": null,
            "align_self": null,
            "border": null,
            "bottom": null,
            "display": null,
            "flex": null,
            "flex_flow": null,
            "grid_area": null,
            "grid_auto_columns": null,
            "grid_auto_flow": null,
            "grid_auto_rows": null,
            "grid_column": null,
            "grid_gap": null,
            "grid_row": null,
            "grid_template_areas": null,
            "grid_template_columns": null,
            "grid_template_rows": null,
            "height": null,
            "justify_content": null,
            "justify_items": null,
            "left": null,
            "margin": null,
            "max_height": null,
            "max_width": null,
            "min_height": null,
            "min_width": null,
            "object_fit": null,
            "object_position": null,
            "order": null,
            "overflow": null,
            "overflow_x": null,
            "overflow_y": null,
            "padding": null,
            "right": null,
            "top": null,
            "visibility": null,
            "width": null
          }
        },
        "7e40ba1f5798484bb88bc1ae8a99e6ee": {
          "model_module": "@jupyter-widgets/controls",
          "model_name": "ProgressStyleModel",
          "model_module_version": "1.5.0",
          "state": {
            "_model_module": "@jupyter-widgets/controls",
            "_model_module_version": "1.5.0",
            "_model_name": "ProgressStyleModel",
            "_view_count": null,
            "_view_module": "@jupyter-widgets/base",
            "_view_module_version": "1.2.0",
            "_view_name": "StyleView",
            "bar_color": null,
            "description_width": ""
          }
        },
        "5ac8de41031f4399854d036acb602041": {
          "model_module": "@jupyter-widgets/base",
          "model_name": "LayoutModel",
          "model_module_version": "1.2.0",
          "state": {
            "_model_module": "@jupyter-widgets/base",
            "_model_module_version": "1.2.0",
            "_model_name": "LayoutModel",
            "_view_count": null,
            "_view_module": "@jupyter-widgets/base",
            "_view_module_version": "1.2.0",
            "_view_name": "LayoutView",
            "align_content": null,
            "align_items": null,
            "align_self": null,
            "border": null,
            "bottom": null,
            "display": null,
            "flex": null,
            "flex_flow": null,
            "grid_area": null,
            "grid_auto_columns": null,
            "grid_auto_flow": null,
            "grid_auto_rows": null,
            "grid_column": null,
            "grid_gap": null,
            "grid_row": null,
            "grid_template_areas": null,
            "grid_template_columns": null,
            "grid_template_rows": null,
            "height": null,
            "justify_content": null,
            "justify_items": null,
            "left": null,
            "margin": null,
            "max_height": null,
            "max_width": null,
            "min_height": null,
            "min_width": null,
            "object_fit": null,
            "object_position": null,
            "order": null,
            "overflow": null,
            "overflow_x": null,
            "overflow_y": null,
            "padding": null,
            "right": null,
            "top": null,
            "visibility": null,
            "width": null
          }
        },
        "c0babbad4f3740218157ec76042ad001": {
          "model_module": "@jupyter-widgets/controls",
          "model_name": "DescriptionStyleModel",
          "model_module_version": "1.5.0",
          "state": {
            "_model_module": "@jupyter-widgets/controls",
            "_model_module_version": "1.5.0",
            "_model_name": "DescriptionStyleModel",
            "_view_count": null,
            "_view_module": "@jupyter-widgets/base",
            "_view_module_version": "1.2.0",
            "_view_name": "StyleView",
            "description_width": ""
          }
        },
        "be6a8bb98242449396289dd250dba96f": {
          "model_module": "@jupyter-widgets/controls",
          "model_name": "HBoxModel",
          "model_module_version": "1.5.0",
          "state": {
            "_dom_classes": [],
            "_model_module": "@jupyter-widgets/controls",
            "_model_module_version": "1.5.0",
            "_model_name": "HBoxModel",
            "_view_count": null,
            "_view_module": "@jupyter-widgets/controls",
            "_view_module_version": "1.5.0",
            "_view_name": "HBoxView",
            "box_style": "",
            "children": [
              "IPY_MODEL_fa2cc618e5ca4feeb6820b7a9252d1aa",
              "IPY_MODEL_777fcf46270a46218e79a791cbb4f1bc",
              "IPY_MODEL_7e7972e4f03843e1a34805300a64e1ec"
            ],
            "layout": "IPY_MODEL_b6ce0965e10448448dfe646635ea1c9e"
          }
        },
        "fa2cc618e5ca4feeb6820b7a9252d1aa": {
          "model_module": "@jupyter-widgets/controls",
          "model_name": "HTMLModel",
          "model_module_version": "1.5.0",
          "state": {
            "_dom_classes": [],
            "_model_module": "@jupyter-widgets/controls",
            "_model_module_version": "1.5.0",
            "_model_name": "HTMLModel",
            "_view_count": null,
            "_view_module": "@jupyter-widgets/controls",
            "_view_module_version": "1.5.0",
            "_view_name": "HTMLView",
            "description": "",
            "description_tooltip": null,
            "layout": "IPY_MODEL_480785d3e7b84c0883538b2ffae4bd96",
            "placeholder": "​",
            "style": "IPY_MODEL_a1780965dea94f27b08402e2a94579e8",
            "value": "model.safetensors: 100%"
          }
        },
        "777fcf46270a46218e79a791cbb4f1bc": {
          "model_module": "@jupyter-widgets/controls",
          "model_name": "FloatProgressModel",
          "model_module_version": "1.5.0",
          "state": {
            "_dom_classes": [],
            "_model_module": "@jupyter-widgets/controls",
            "_model_module_version": "1.5.0",
            "_model_name": "FloatProgressModel",
            "_view_count": null,
            "_view_module": "@jupyter-widgets/controls",
            "_view_module_version": "1.5.0",
            "_view_name": "ProgressView",
            "bar_style": "success",
            "description": "",
            "description_tooltip": null,
            "layout": "IPY_MODEL_b12a295248a44dc1bb363d383ca5971b",
            "max": 442197096,
            "min": 0,
            "orientation": "horizontal",
            "style": "IPY_MODEL_ab811537fc5a42f1b728ca8e79ebeec3",
            "value": 442197096
          }
        },
        "7e7972e4f03843e1a34805300a64e1ec": {
          "model_module": "@jupyter-widgets/controls",
          "model_name": "HTMLModel",
          "model_module_version": "1.5.0",
          "state": {
            "_dom_classes": [],
            "_model_module": "@jupyter-widgets/controls",
            "_model_module_version": "1.5.0",
            "_model_name": "HTMLModel",
            "_view_count": null,
            "_view_module": "@jupyter-widgets/controls",
            "_view_module_version": "1.5.0",
            "_view_name": "HTMLView",
            "description": "",
            "description_tooltip": null,
            "layout": "IPY_MODEL_b78f165e566f47d3bb9094ba9fabca78",
            "placeholder": "​",
            "style": "IPY_MODEL_940219dab45e44ae877caadcf56c0f4b",
            "value": " 442M/442M [00:09&lt;00:00, 83.2MB/s]"
          }
        },
        "b6ce0965e10448448dfe646635ea1c9e": {
          "model_module": "@jupyter-widgets/base",
          "model_name": "LayoutModel",
          "model_module_version": "1.2.0",
          "state": {
            "_model_module": "@jupyter-widgets/base",
            "_model_module_version": "1.2.0",
            "_model_name": "LayoutModel",
            "_view_count": null,
            "_view_module": "@jupyter-widgets/base",
            "_view_module_version": "1.2.0",
            "_view_name": "LayoutView",
            "align_content": null,
            "align_items": null,
            "align_self": null,
            "border": null,
            "bottom": null,
            "display": null,
            "flex": null,
            "flex_flow": null,
            "grid_area": null,
            "grid_auto_columns": null,
            "grid_auto_flow": null,
            "grid_auto_rows": null,
            "grid_column": null,
            "grid_gap": null,
            "grid_row": null,
            "grid_template_areas": null,
            "grid_template_columns": null,
            "grid_template_rows": null,
            "height": null,
            "justify_content": null,
            "justify_items": null,
            "left": null,
            "margin": null,
            "max_height": null,
            "max_width": null,
            "min_height": null,
            "min_width": null,
            "object_fit": null,
            "object_position": null,
            "order": null,
            "overflow": null,
            "overflow_x": null,
            "overflow_y": null,
            "padding": null,
            "right": null,
            "top": null,
            "visibility": null,
            "width": null
          }
        },
        "480785d3e7b84c0883538b2ffae4bd96": {
          "model_module": "@jupyter-widgets/base",
          "model_name": "LayoutModel",
          "model_module_version": "1.2.0",
          "state": {
            "_model_module": "@jupyter-widgets/base",
            "_model_module_version": "1.2.0",
            "_model_name": "LayoutModel",
            "_view_count": null,
            "_view_module": "@jupyter-widgets/base",
            "_view_module_version": "1.2.0",
            "_view_name": "LayoutView",
            "align_content": null,
            "align_items": null,
            "align_self": null,
            "border": null,
            "bottom": null,
            "display": null,
            "flex": null,
            "flex_flow": null,
            "grid_area": null,
            "grid_auto_columns": null,
            "grid_auto_flow": null,
            "grid_auto_rows": null,
            "grid_column": null,
            "grid_gap": null,
            "grid_row": null,
            "grid_template_areas": null,
            "grid_template_columns": null,
            "grid_template_rows": null,
            "height": null,
            "justify_content": null,
            "justify_items": null,
            "left": null,
            "margin": null,
            "max_height": null,
            "max_width": null,
            "min_height": null,
            "min_width": null,
            "object_fit": null,
            "object_position": null,
            "order": null,
            "overflow": null,
            "overflow_x": null,
            "overflow_y": null,
            "padding": null,
            "right": null,
            "top": null,
            "visibility": null,
            "width": null
          }
        },
        "a1780965dea94f27b08402e2a94579e8": {
          "model_module": "@jupyter-widgets/controls",
          "model_name": "DescriptionStyleModel",
          "model_module_version": "1.5.0",
          "state": {
            "_model_module": "@jupyter-widgets/controls",
            "_model_module_version": "1.5.0",
            "_model_name": "DescriptionStyleModel",
            "_view_count": null,
            "_view_module": "@jupyter-widgets/base",
            "_view_module_version": "1.2.0",
            "_view_name": "StyleView",
            "description_width": ""
          }
        },
        "b12a295248a44dc1bb363d383ca5971b": {
          "model_module": "@jupyter-widgets/base",
          "model_name": "LayoutModel",
          "model_module_version": "1.2.0",
          "state": {
            "_model_module": "@jupyter-widgets/base",
            "_model_module_version": "1.2.0",
            "_model_name": "LayoutModel",
            "_view_count": null,
            "_view_module": "@jupyter-widgets/base",
            "_view_module_version": "1.2.0",
            "_view_name": "LayoutView",
            "align_content": null,
            "align_items": null,
            "align_self": null,
            "border": null,
            "bottom": null,
            "display": null,
            "flex": null,
            "flex_flow": null,
            "grid_area": null,
            "grid_auto_columns": null,
            "grid_auto_flow": null,
            "grid_auto_rows": null,
            "grid_column": null,
            "grid_gap": null,
            "grid_row": null,
            "grid_template_areas": null,
            "grid_template_columns": null,
            "grid_template_rows": null,
            "height": null,
            "justify_content": null,
            "justify_items": null,
            "left": null,
            "margin": null,
            "max_height": null,
            "max_width": null,
            "min_height": null,
            "min_width": null,
            "object_fit": null,
            "object_position": null,
            "order": null,
            "overflow": null,
            "overflow_x": null,
            "overflow_y": null,
            "padding": null,
            "right": null,
            "top": null,
            "visibility": null,
            "width": null
          }
        },
        "ab811537fc5a42f1b728ca8e79ebeec3": {
          "model_module": "@jupyter-widgets/controls",
          "model_name": "ProgressStyleModel",
          "model_module_version": "1.5.0",
          "state": {
            "_model_module": "@jupyter-widgets/controls",
            "_model_module_version": "1.5.0",
            "_model_name": "ProgressStyleModel",
            "_view_count": null,
            "_view_module": "@jupyter-widgets/base",
            "_view_module_version": "1.2.0",
            "_view_name": "StyleView",
            "bar_color": null,
            "description_width": ""
          }
        },
        "b78f165e566f47d3bb9094ba9fabca78": {
          "model_module": "@jupyter-widgets/base",
          "model_name": "LayoutModel",
          "model_module_version": "1.2.0",
          "state": {
            "_model_module": "@jupyter-widgets/base",
            "_model_module_version": "1.2.0",
            "_model_name": "LayoutModel",
            "_view_count": null,
            "_view_module": "@jupyter-widgets/base",
            "_view_module_version": "1.2.0",
            "_view_name": "LayoutView",
            "align_content": null,
            "align_items": null,
            "align_self": null,
            "border": null,
            "bottom": null,
            "display": null,
            "flex": null,
            "flex_flow": null,
            "grid_area": null,
            "grid_auto_columns": null,
            "grid_auto_flow": null,
            "grid_auto_rows": null,
            "grid_column": null,
            "grid_gap": null,
            "grid_row": null,
            "grid_template_areas": null,
            "grid_template_columns": null,
            "grid_template_rows": null,
            "height": null,
            "justify_content": null,
            "justify_items": null,
            "left": null,
            "margin": null,
            "max_height": null,
            "max_width": null,
            "min_height": null,
            "min_width": null,
            "object_fit": null,
            "object_position": null,
            "order": null,
            "overflow": null,
            "overflow_x": null,
            "overflow_y": null,
            "padding": null,
            "right": null,
            "top": null,
            "visibility": null,
            "width": null
          }
        },
        "940219dab45e44ae877caadcf56c0f4b": {
          "model_module": "@jupyter-widgets/controls",
          "model_name": "DescriptionStyleModel",
          "model_module_version": "1.5.0",
          "state": {
            "_model_module": "@jupyter-widgets/controls",
            "_model_module_version": "1.5.0",
            "_model_name": "DescriptionStyleModel",
            "_view_count": null,
            "_view_module": "@jupyter-widgets/base",
            "_view_module_version": "1.2.0",
            "_view_name": "StyleView",
            "description_width": ""
          }
        }
      }
    }
  },
  "cells": [
    {
      "cell_type": "markdown",
      "metadata": {
        "id": "view-in-github",
        "colab_type": "text"
      },
      "source": [
        "<a href=\"https://colab.research.google.com/github/zabarhoumi/interdisciplinarity/blob/main/Untitled1.ipynb\" target=\"_parent\"><img src=\"https://colab.research.google.com/assets/colab-badge.svg\" alt=\"Open In Colab\"/></a>"
      ]
    },
    {
      "cell_type": "code",
      "execution_count": 2,
      "metadata": {
        "colab": {
          "base_uri": "https://localhost:8080/",
          "height": 964,
          "referenced_widgets": [
            "f6c73dd1ba804a1985de44486920c1d5",
            "ec95aa495a494cb193b0a0979ac6d9c2",
            "086dd54dd166480890f3f002d13f68f4",
            "b760f05ebb904cdf84959a0f30515d75",
            "9b88d73569aa4b5d8247794eb5c7bfdb",
            "478537d2363a402eaf9bc52768d20de0",
            "1eba802e75a243709bf13dbf789fe0f0",
            "6108febc017a492cbcb4fc08cf93bd2d",
            "15f094c5b7bb414a89a78bac7077d858",
            "2fc9e9b5dee540fb97278327f4da094a",
            "8241b70cc39b4628a327885a9e8c4131",
            "3811d0b40b65454ba545b1621c9ede1c",
            "0703909c43a640c6ad213e5465dc6cd2",
            "40e465e36d9f4678bc69502395280a91",
            "c9e3dd49581f4f119c029c389d213b7a",
            "5e1d8ac86cf3496e914a32979e44344a",
            "bfa7661dd0534057ba7a17f71e4861ec",
            "38ffe08e6ad74b0d8c7275e4e23c41c5",
            "ad51957f69ea4c638a9f134f87b7c2a6",
            "25a540047a534ee8b20154b26edf9a13",
            "b1f702eeb3b84092985b1822b0db82fc",
            "bd92c48686ea48bf92dce62c10ff831b",
            "b51036beea2542019610293f55eba45f",
            "91793451b3dc4e7eb9729c626143525a",
            "7d00f97d117b44debda7acc63af7851f",
            "a70c6e2acfed4742b5591c53a994fc99",
            "299ca86cf8ba4d44a7fcc5c6a536a2e1",
            "bb3071bcaf664002b894cf9485cc238d",
            "46a851a2d3b24d13b3c0e9c6e6f5264b",
            "158646547f744e4f9dde262216e73d0a",
            "7e40ba1f5798484bb88bc1ae8a99e6ee",
            "5ac8de41031f4399854d036acb602041",
            "c0babbad4f3740218157ec76042ad001",
            "be6a8bb98242449396289dd250dba96f",
            "fa2cc618e5ca4feeb6820b7a9252d1aa",
            "777fcf46270a46218e79a791cbb4f1bc",
            "7e7972e4f03843e1a34805300a64e1ec",
            "b6ce0965e10448448dfe646635ea1c9e",
            "480785d3e7b84c0883538b2ffae4bd96",
            "a1780965dea94f27b08402e2a94579e8",
            "b12a295248a44dc1bb363d383ca5971b",
            "ab811537fc5a42f1b728ca8e79ebeec3",
            "b78f165e566f47d3bb9094ba9fabca78",
            "940219dab45e44ae877caadcf56c0f4b"
          ]
        },
        "id": "2IKgxm9z19FK",
        "outputId": "ae2ccbaf-b980-42ae-bec5-e3f1ecc3b226"
      },
      "outputs": [
        {
          "output_type": "stream",
          "name": "stdout",
          "text": [
            "Requirement already satisfied: transformers in /usr/local/lib/python3.12/dist-packages (4.55.4)\n",
            "Requirement already satisfied: torch in /usr/local/lib/python3.12/dist-packages (2.8.0+cu126)\n",
            "Requirement already satisfied: filelock in /usr/local/lib/python3.12/dist-packages (from transformers) (3.19.1)\n",
            "Requirement already satisfied: huggingface-hub<1.0,>=0.34.0 in /usr/local/lib/python3.12/dist-packages (from transformers) (0.34.4)\n",
            "Requirement already satisfied: numpy>=1.17 in /usr/local/lib/python3.12/dist-packages (from transformers) (1.26.4)\n",
            "Requirement already satisfied: packaging>=20.0 in /usr/local/lib/python3.12/dist-packages (from transformers) (25.0)\n",
            "Requirement already satisfied: pyyaml>=5.1 in /usr/local/lib/python3.12/dist-packages (from transformers) (6.0.2)\n",
            "Requirement already satisfied: regex!=2019.12.17 in /usr/local/lib/python3.12/dist-packages (from transformers) (2024.11.6)\n",
            "Requirement already satisfied: requests in /usr/local/lib/python3.12/dist-packages (from transformers) (2.32.4)\n",
            "Requirement already satisfied: tokenizers<0.22,>=0.21 in /usr/local/lib/python3.12/dist-packages (from transformers) (0.21.4)\n",
            "Requirement already satisfied: safetensors>=0.4.3 in /usr/local/lib/python3.12/dist-packages (from transformers) (0.6.2)\n",
            "Requirement already satisfied: tqdm>=4.27 in /usr/local/lib/python3.12/dist-packages (from transformers) (4.67.1)\n",
            "Requirement already satisfied: typing-extensions>=4.10.0 in /usr/local/lib/python3.12/dist-packages (from torch) (4.15.0)\n",
            "Requirement already satisfied: setuptools in /usr/local/lib/python3.12/dist-packages (from torch) (75.2.0)\n",
            "Requirement already satisfied: sympy>=1.13.3 in /usr/local/lib/python3.12/dist-packages (from torch) (1.13.3)\n",
            "Requirement already satisfied: networkx in /usr/local/lib/python3.12/dist-packages (from torch) (3.5)\n",
            "Requirement already satisfied: jinja2 in /usr/local/lib/python3.12/dist-packages (from torch) (3.1.6)\n",
            "Requirement already satisfied: fsspec in /usr/local/lib/python3.12/dist-packages (from torch) (2025.3.0)\n",
            "Requirement already satisfied: nvidia-cuda-nvrtc-cu12==12.6.77 in /usr/local/lib/python3.12/dist-packages (from torch) (12.6.77)\n",
            "Requirement already satisfied: nvidia-cuda-runtime-cu12==12.6.77 in /usr/local/lib/python3.12/dist-packages (from torch) (12.6.77)\n",
            "Requirement already satisfied: nvidia-cuda-cupti-cu12==12.6.80 in /usr/local/lib/python3.12/dist-packages (from torch) (12.6.80)\n",
            "Requirement already satisfied: nvidia-cudnn-cu12==9.10.2.21 in /usr/local/lib/python3.12/dist-packages (from torch) (9.10.2.21)\n",
            "Requirement already satisfied: nvidia-cublas-cu12==12.6.4.1 in /usr/local/lib/python3.12/dist-packages (from torch) (12.6.4.1)\n",
            "Requirement already satisfied: nvidia-cufft-cu12==11.3.0.4 in /usr/local/lib/python3.12/dist-packages (from torch) (11.3.0.4)\n",
            "Requirement already satisfied: nvidia-curand-cu12==10.3.7.77 in /usr/local/lib/python3.12/dist-packages (from torch) (10.3.7.77)\n",
            "Requirement already satisfied: nvidia-cusolver-cu12==11.7.1.2 in /usr/local/lib/python3.12/dist-packages (from torch) (11.7.1.2)\n",
            "Requirement already satisfied: nvidia-cusparse-cu12==12.5.4.2 in /usr/local/lib/python3.12/dist-packages (from torch) (12.5.4.2)\n",
            "Requirement already satisfied: nvidia-cusparselt-cu12==0.7.1 in /usr/local/lib/python3.12/dist-packages (from torch) (0.7.1)\n",
            "Requirement already satisfied: nvidia-nccl-cu12==2.27.3 in /usr/local/lib/python3.12/dist-packages (from torch) (2.27.3)\n",
            "Requirement already satisfied: nvidia-nvtx-cu12==12.6.77 in /usr/local/lib/python3.12/dist-packages (from torch) (12.6.77)\n",
            "Requirement already satisfied: nvidia-nvjitlink-cu12==12.6.85 in /usr/local/lib/python3.12/dist-packages (from torch) (12.6.85)\n",
            "Requirement already satisfied: nvidia-cufile-cu12==1.11.1.6 in /usr/local/lib/python3.12/dist-packages (from torch) (1.11.1.6)\n",
            "Requirement already satisfied: triton==3.4.0 in /usr/local/lib/python3.12/dist-packages (from torch) (3.4.0)\n",
            "Requirement already satisfied: hf-xet<2.0.0,>=1.1.3 in /usr/local/lib/python3.12/dist-packages (from huggingface-hub<1.0,>=0.34.0->transformers) (1.1.8)\n",
            "Requirement already satisfied: mpmath<1.4,>=1.1.0 in /usr/local/lib/python3.12/dist-packages (from sympy>=1.13.3->torch) (1.3.0)\n",
            "Requirement already satisfied: MarkupSafe>=2.0 in /usr/local/lib/python3.12/dist-packages (from jinja2->torch) (3.0.2)\n",
            "Requirement already satisfied: charset_normalizer<4,>=2 in /usr/local/lib/python3.12/dist-packages (from requests->transformers) (3.4.3)\n",
            "Requirement already satisfied: idna<4,>=2.5 in /usr/local/lib/python3.12/dist-packages (from requests->transformers) (3.10)\n",
            "Requirement already satisfied: urllib3<3,>=1.21.1 in /usr/local/lib/python3.12/dist-packages (from requests->transformers) (2.5.0)\n",
            "Requirement already satisfied: certifi>=2017.4.17 in /usr/local/lib/python3.12/dist-packages (from requests->transformers) (2025.8.3)\n"
          ]
        },
        {
          "output_type": "stream",
          "name": "stderr",
          "text": [
            "/usr/local/lib/python3.12/dist-packages/huggingface_hub/utils/_auth.py:94: UserWarning: \n",
            "The secret `HF_TOKEN` does not exist in your Colab secrets.\n",
            "To authenticate with the Hugging Face Hub, create a token in your settings tab (https://huggingface.co/settings/tokens), set it as secret in your Google Colab and restart your session.\n",
            "You will be able to reuse this secret in all of your notebooks.\n",
            "Please note that authentication is recommended but still optional to access public models or datasets.\n",
            "  warnings.warn(\n"
          ]
        },
        {
          "output_type": "display_data",
          "data": {
            "text/plain": [
              "config.json:   0%|          | 0.00/385 [00:00<?, ?B/s]"
            ],
            "application/vnd.jupyter.widget-view+json": {
              "version_major": 2,
              "version_minor": 0,
              "model_id": "f6c73dd1ba804a1985de44486920c1d5"
            }
          },
          "metadata": {}
        },
        {
          "output_type": "display_data",
          "data": {
            "text/plain": [
              "vocab.txt: 0.00B [00:00, ?B/s]"
            ],
            "application/vnd.jupyter.widget-view+json": {
              "version_major": 2,
              "version_minor": 0,
              "model_id": "3811d0b40b65454ba545b1621c9ede1c"
            }
          },
          "metadata": {}
        },
        {
          "output_type": "display_data",
          "data": {
            "text/plain": [
              "pytorch_model.bin:   0%|          | 0.00/442M [00:00<?, ?B/s]"
            ],
            "application/vnd.jupyter.widget-view+json": {
              "version_major": 2,
              "version_minor": 0,
              "model_id": "b51036beea2542019610293f55eba45f"
            }
          },
          "metadata": {}
        },
        {
          "output_type": "display_data",
          "data": {
            "text/plain": [
              "model.safetensors:   0%|          | 0.00/442M [00:00<?, ?B/s]"
            ],
            "application/vnd.jupyter.widget-view+json": {
              "version_major": 2,
              "version_minor": 0,
              "model_id": "be6a8bb98242449396289dd250dba96f"
            }
          },
          "metadata": {}
        }
      ],
      "source": [
        "# Created with Sourcetable.com\n",
        "\n",
        "!pip install transformers torch\n",
        "from transformers import AutoTokenizer, AutoModel\n",
        "\n",
        "# Use SciBERT for scientific texts\n",
        "tokenizer = AutoTokenizer.from_pretrained('allenai/scibert_scivocab_uncased')\n",
        "model = AutoModel.from_pretrained('allenai/scibert_scivocab_uncased')"
      ]
    },
    {
      "cell_type": "code",
      "source": [
        "# Created with Sourcetable.com\n",
        "\n",
        "import pandas as pd\n",
        "import numpy as np\n",
        "from sklearn.feature_extraction.text import TfidfVectorizer\n",
        "from sklearn.metrics.pairwise import cosine_similarity\n",
        "from sklearn.cluster import KMeans\n",
        "from gensim.models import LdaModel\n",
        "from gensim.corpora import Dictionary\n",
        "import matplotlib.pyplot as plt\n",
        "from scipy.stats import entropy\n",
        "import warnings\n",
        "warnings.filterwarnings('ignore')\n",
        "print(\"All libraries imported successfully.\")"
      ],
      "metadata": {
        "colab": {
          "base_uri": "https://localhost:8080/"
        },
        "id": "nwIilykj3a87",
        "outputId": "feec03a9-6177-4a02-d443-dd6be779a14c"
      },
      "execution_count": 3,
      "outputs": [
        {
          "output_type": "stream",
          "name": "stdout",
          "text": [
            "All libraries imported successfully.\n"
          ]
        }
      ]
    },
    {
      "cell_type": "code",
      "source": [
        "# Created with Sourcetable.com\n",
        "\n",
        "# Change 'your_file_name.xlsx' to your actual filename\n",
        "df = pd.read_excel('interdisciplinarityCorpus.xlsx')\n",
        "print(f\"Available columns: {list(df.columns)}\")"
      ],
      "metadata": {
        "colab": {
          "base_uri": "https://localhost:8080/"
        },
        "id": "K93cFJNY34Pl",
        "outputId": "a2a04362-890d-4f92-f3b1-92fae71de7d4"
      },
      "execution_count": 4,
      "outputs": [
        {
          "output_type": "stream",
          "name": "stdout",
          "text": [
            "Available columns: ['id', 'author', 'Institut', 'Item Type', 'journal', 'title', 'year', 'field1', 'field2', 'field3', 'field4', 'field5', 'field6', 'field7', 'Abstract Note', 'Language', 'Key words', 'Url', 'issn', 'ISBN', 'DOI']\n"
          ]
        }
      ]
    },
    {
      "cell_type": "code",
      "source": [
        "# Created with Sourcetable.com\n",
        "\n",
        "df['text'] = df['Abstract Note'].fillna('') + ' ' + df['title'].fillna('')\n",
        "df['text'] = df['text'].str.replace(r'[^a-zA-Z\\s]', '', regex=True)\n",
        "print(\"Text prepared\")"
      ],
      "metadata": {
        "colab": {
          "base_uri": "https://localhost:8080/"
        },
        "id": "xClaAlY14HWK",
        "outputId": "e32a28b6-7f80-4a64-f3ad-af6c5a90db9d"
      },
      "execution_count": 5,
      "outputs": [
        {
          "output_type": "stream",
          "name": "stdout",
          "text": [
            "Text prepared\n"
          ]
        }
      ]
    },
    {
      "cell_type": "code",
      "source": [
        "# Created with Sourcetable.com\n",
        "\n",
        "vectorizer = TfidfVectorizer(max_features=500, stop_words='english')\n",
        "tfidf_matrix = vectorizer.fit_transform(df['text'])\n",
        "print(f\"TF-IDF completed with {tfidf_matrix.shape[1]} features\")"
      ],
      "metadata": {
        "colab": {
          "base_uri": "https://localhost:8080/"
        },
        "id": "LS_Dr71a4J2r",
        "outputId": "46330bef-9138-4f82-c82e-b8696cf061ec"
      },
      "execution_count": 6,
      "outputs": [
        {
          "output_type": "stream",
          "name": "stdout",
          "text": [
            "TF-IDF completed with 500 features\n"
          ]
        }
      ]
    },
    {
      "cell_type": "code",
      "source": [
        "# Step 6: Semantic Similarity\n",
        "print(\"🔍 Computing semantic similarity…\")\n",
        "\n",
        "similarity_matrix = cosine_similarity(tfidf_matrix)\n",
        "semantic_scores = []\n",
        "\n",
        "for i in range(len(df)):\n",
        "    avg_sim = (similarity_matrix[i].sum() - 1) / (len(df) - 1)\n",
        "    semantic_interdisciplinarity = 1 - avg_sim\n",
        "    semantic_scores.append(semantic_interdisciplinarity)\n",
        "\n",
        "print(f\"Semantic similarity computed with {len(semantic_scores)} scores\")"
      ],
      "metadata": {
        "colab": {
          "base_uri": "https://localhost:8080/"
        },
        "id": "qdGidgzP4Xq6",
        "outputId": "b71a6f66-1787-4c03-9030-c7ce14609bad"
      },
      "execution_count": 7,
      "outputs": [
        {
          "output_type": "stream",
          "name": "stdout",
          "text": [
            "🔍 Computing semantic similarity…\n",
            "Semantic similarity computed with 141 scores\n"
          ]
        }
      ]
    },
    {
      "cell_type": "code",
      "source": [
        "# Step 7: Topic Modeling\n",
        "print(\"📊 Running topic modeling…\")\n",
        "\n",
        "texts = []\n",
        "for text in df['text']:\n",
        "    words = text.lower().split()\n",
        "    words = [w for w in words if len(w) > 3]\n",
        "    texts.append(words)\n",
        "\n",
        "dictionary = Dictionary(texts)\n",
        "dictionary.filter_extremes(no_below=2, no_above=0.8)\n",
        "corpus = [dictionary.doc2bow(text) for text in texts]\n",
        "\n",
        "lda_model = LdaModel(corpus=corpus, id2word=dictionary, num_topics=8, random_state=42, passes=5)\n",
        "\n",
        "topic_scores = []\n",
        "for doc in corpus:\n",
        "    doc_topics = lda_model.get_document_topics(doc)\n",
        "    if len(doc_topics) > 0:\n",
        "        probs = [prob for _, prob in doc_topics]\n",
        "        if len(probs) > 1:\n",
        "            topic_diversity = entropy(probs)\n",
        "        else:\n",
        "            topic_diversity = 0\n",
        "    else:\n",
        "        topic_diversity = 0\n",
        "    topic_scores.append(topic_diversity)\n",
        "\n",
        "print(f\"Topic modeling completed with {len(topic_scores)} scores\")"
      ],
      "metadata": {
        "colab": {
          "base_uri": "https://localhost:8080/"
        },
        "id": "bHmJtTDU4ZLm",
        "outputId": "de268f26-ccc6-4b22-ca01-2c6e92c438f1"
      },
      "execution_count": 8,
      "outputs": [
        {
          "output_type": "stream",
          "name": "stderr",
          "text": [
            "WARNING:gensim.models.ldamodel:too few updates, training might not converge; consider increasing the number of passes or iterations to improve accuracy\n"
          ]
        },
        {
          "output_type": "stream",
          "name": "stdout",
          "text": [
            "📊 Running topic modeling…\n",
            "Topic modeling completed with 141 scores\n"
          ]
        }
      ]
    },
    {
      "cell_type": "code",
      "source": [
        "# Step 8: Clustering\n",
        "print(\"🎯 Running clustering…\")\n",
        "kmeans = KMeans(n_clusters=6, random_state=42)\n",
        "clusters = kmeans.fit_predict(tfidf_matrix)\n",
        "print(\"✅ Clustering complete\")\n",
        "# Normalize scores\n",
        "semantic_norm = (np.array(semantic_scores) - np.min(semantic_scores)) / (np.max(semantic_scores) - np.min(semantic_scores))\n",
        "topic_norm = (np.array(topic_scores) - np.min(topic_scores)) / (np.max(topic_scores) - np.min(topic_scores))\n",
        "\n",
        "# Step 9: Create composite score\n",
        "print(\"🎯 Creating composite AI score…\")\n",
        "semantic_norm = (np.array(semantic_scores) - np.min(semantic_scores)) / (np.max(semantic_scores) - np.min(semantic_scores))\n",
        "topic_norm = (np.array(topic_scores) - np.min(topic_scores)) / (np.max(topic_scores) - np.min(topic_scores))\n",
        "\n",
        "ai_composite = 0.6 * semantic_norm + 0.4 * topic_norm\n",
        "print(\"✅ Composite score created\")\n",
        "\n",
        "# Step 10: Create results\n",
        "# Create results dataframe\n",
        "results = pd.DataFrame({\n",
        "    'id': df.get('id', range(len(df))),\n",
        "    'title': df.get('title', ''),\n",
        "    'semantic_interdisciplinarity': semantic_scores,\n",
        "    'topic_diversity': topic_scores,\n",
        "    'ai_composite_score': ai_composite,\n",
        "    'cluster': clusters\n",
        "})\n",
        "\n",
        "print(\"Results created\")"
      ],
      "metadata": {
        "colab": {
          "base_uri": "https://localhost:8080/"
        },
        "id": "3xkpTJ6w4ev_",
        "outputId": "076e398f-9bed-48ea-db62-32bfb1f6e2d9"
      },
      "execution_count": 11,
      "outputs": [
        {
          "output_type": "stream",
          "name": "stdout",
          "text": [
            "🎯 Running clustering…\n",
            "✅ Clustering complete\n",
            "🎯 Creating composite AI score…\n",
            "✅ Composite score created\n",
            "Results created\n"
          ]
        }
      ]
    },
    {
      "cell_type": "code",
      "source": [
        "# Step 11: Show top results\n",
        "print(\"\\n🏆 TOP 10 MOST INTERDISCIPLINARY PAPERS:\")\n",
        "#print(\"=\" * 50)\n",
        "#top_papers = results.nlargest(10, 'ai_composite_score')\n",
        "#for i, (idx, paper) in enumerate(top_papers.iterrows())\n",
        "#print(f\"{i+1}. ID {paper['id']}: Score = {paper['ai_composite_score']:.4f}\")\n",
        "#title = str(paper['title'])[:50] + \"…\" if len(str(paper['title'])) > 50 else str(paper['title'])\n",
        "#print(f\" Title: {title}\")\n",
        "#print()"
      ],
      "metadata": {
        "colab": {
          "base_uri": "https://localhost:8080/"
        },
        "id": "DuwFUrCr4pAz",
        "outputId": "34c93095-688d-4345-e711-fada82eed6d3"
      },
      "execution_count": 14,
      "outputs": [
        {
          "output_type": "stream",
          "name": "stdout",
          "text": [
            "\n",
            "🏆 TOP 10 MOST INTERDISCIPLINARY PAPERS:\n"
          ]
        }
      ]
    },
    {
      "cell_type": "code",
      "source": [
        "# Created with Sourcetable.com\n",
        "\n",
        "plt.figure(figsize=(10, 6))\n",
        "\n",
        "plt.subplot(1, 2, 1)\n",
        "plt.hist(results['ai_composite_score'], bins=15, alpha=0.7, color='blue')\n",
        "plt.title('AI Composite Score Distribution')\n",
        "plt.xlabel('AI Composite Score')\n",
        "plt.ylabel('Frequency')\n",
        "\n",
        "plt.subplot(1, 2, 2)\n",
        "plt.hist(results['topic_diversity'], bins=15, alpha=0.7, color='orange')\n",
        "plt.title('Topic Diversity Distribution')\n",
        "plt.xlabel('Topic Diversity')\n",
        "plt.ylabel('Frequency')\n",
        "\n",
        "plt.tight_layout()\n",
        "plt.show()"
      ],
      "metadata": {
        "colab": {
          "base_uri": "https://localhost:8080/",
          "height": 578
        },
        "id": "SUNNTNsU4xT6",
        "outputId": "b7224abf-6173-43fb-b960-b34b7f27cd2d"
      },
      "execution_count": 15,
      "outputs": [
        {
          "output_type": "display_data",
          "data": {
            "text/plain": [
              "<Figure size 1000x600 with 2 Axes>"
            ],
            "image/png": "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\n"
          },
          "metadata": {}
        }
      ]
    },
    {
      "cell_type": "code",
      "source": [
        "# Step 12: Basic visualization\n",
        "plt.figure(figsize=(10, 6))\n",
        "plt.subplot(1, 2, 1)\n",
        "plt.hist(results['ai_composite_score'], bins=15, alpha=0.7, color='blue')\n",
        "plt.title('AI Composite Score Distribution')\n",
        "plt.xlabel('AI Composite Score')\n",
        "plt.ylabel('Frequency')\n",
        "\n",
        "plt.subplot(1, 2, 2)\n",
        "plt.hist(results['topic_diversity'], bins=15, alpha=0.7, color='orange')\n",
        "plt.title('Topic Diversity Distribution')\n",
        "plt.xlabel('Topic Diversity')\n",
        "plt.ylabel('Frequency')\n",
        "\n",
        "plt.tight_layout()\n",
        "plt.show()"
      ],
      "metadata": {
        "colab": {
          "base_uri": "https://localhost:8080/",
          "height": 578
        },
        "id": "otYiEc8f-cuj",
        "outputId": "ba75743e-f30a-4138-e6ef-e7aca373ec1a"
      },
      "execution_count": 16,
      "outputs": [
        {
          "output_type": "display_data",
          "data": {
            "text/plain": [
              "<Figure size 1000x600 with 2 Axes>"
            ],
            "image/png": "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\n"
          },
          "metadata": {}
        }
      ]
    },
    {
      "cell_type": "code",
      "source": [
        "# Step 13: Summary statistics\n",
        "print(\"\\n📊 SUMMARY STATISTICS:\")\n",
        "print(\"=\" * 25)\n",
        "print(f\"Total papers: {len(results)}\")\n",
        "print(f\"AI Composite - Mean: {results['ai_composite_score'].mean():.4f}\")\n",
        "print(f\"AI Composite - Std: {results['ai_composite_score'].std():.4f}\")\n",
        "print(f\"Topic Diversity - Mean: {results['topic_diversity'].mean():.4f}\")\n",
        "print(f\"Topic Diversity - Std: {results['topic_diversity'].std():.4f}\")"
      ],
      "metadata": {
        "colab": {
          "base_uri": "https://localhost:8080/"
        },
        "id": "6o3ti8B0-fP5",
        "outputId": "91b1ad8c-8b8b-4da4-e3e4-5cc527b73a1e"
      },
      "execution_count": 17,
      "outputs": [
        {
          "output_type": "stream",
          "name": "stdout",
          "text": [
            "\n",
            "📊 SUMMARY STATISTICS:\n",
            "=========================\n",
            "Total papers: 141\n",
            "AI Composite - Mean: 0.3879\n",
            "AI Composite - Std: 0.1858\n",
            "Topic Diversity - Mean: 0.2203\n",
            "Topic Diversity - Std: 0.3327\n"
          ]
        }
      ]
    },
    {
      "cell_type": "code",
      "source": [
        "# Step 14: Save results\n",
        "results.to_excel('simple_ai_results.xlsx', index=False)\n",
        "print(\"\\n✅ Results saved to 'simple_ai_results.xlsx'\")\n",
        "print(\"\\n🎉 ANALYSIS COMPLETE!\")"
      ],
      "metadata": {
        "colab": {
          "base_uri": "https://localhost:8080/"
        },
        "id": "posN5XZf4zd5",
        "outputId": "2ee511f5-209b-43d5-ce63-94c80327547d"
      },
      "execution_count": 18,
      "outputs": [
        {
          "output_type": "stream",
          "name": "stdout",
          "text": [
            "\n",
            "✅ Results saved to 'simple_ai_results.xlsx'\n",
            "\n",
            "🎉 ANALYSIS COMPLETE!\n"
          ]
        }
      ]
    }
  ]
}
